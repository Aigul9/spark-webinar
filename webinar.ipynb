{
 "cells": [
  {
   "cell_type": "markdown",
   "id": "5115a487",
   "metadata": {
    "slideshow": {
     "slide_type": "-"
    }
   },
   "source": [
    "## Создаем Spark-сессию"
   ]
  },
  {
   "cell_type": "code",
   "execution_count": 1,
   "id": "73e12adf",
   "metadata": {},
   "outputs": [],
   "source": [
    "import pyspark.sql.functions as F\n",
    "from pyspark.sql import SparkSession\n",
    "from pyspark.sql.window import Window"
   ]
  },
  {
   "cell_type": "code",
   "execution_count": 2,
   "id": "8bd0b7ac",
   "metadata": {},
   "outputs": [],
   "source": [
    "jar_files = [\n",
    "    \"E:\\\\EDesktop\\\\Webinar\\\\postgresql-42.7.5.jar\",\n",
    "    \"E:\\\\EDesktop\\\\Webinar\\\\clickhouse-jdbc-0.4.6.jar\"\n",
    "]"
   ]
  },
  {
   "cell_type": "code",
   "execution_count": 3,
   "id": "c4bc0c21",
   "metadata": {},
   "outputs": [],
   "source": [
    "spark = (\n",
    "    SparkSession\n",
    "    .builder\n",
    "    .appName(\"SparkWebinar\")\n",
    "    .config(\"spark.jars\", \",\".join(jar_files))\n",
    "    .getOrCreate()\n",
    ")"
   ]
  },
  {
   "cell_type": "code",
   "execution_count": 4,
   "id": "96186883",
   "metadata": {},
   "outputs": [
    {
     "data": {
      "text/html": [
       "\n",
       "            <div>\n",
       "                <p><b>SparkSession - in-memory</b></p>\n",
       "                \n",
       "        <div>\n",
       "            <p><b>SparkContext</b></p>\n",
       "\n",
       "            <p><a href=\"http://192.168.0.13:4040\">Spark UI</a></p>\n",
       "\n",
       "            <dl>\n",
       "              <dt>Version</dt>\n",
       "                <dd><code>v3.2.1</code></dd>\n",
       "              <dt>Master</dt>\n",
       "                <dd><code>local[*]</code></dd>\n",
       "              <dt>AppName</dt>\n",
       "                <dd><code>SparkWebinar</code></dd>\n",
       "            </dl>\n",
       "        </div>\n",
       "        \n",
       "            </div>\n",
       "        "
      ],
      "text/plain": [
       "<pyspark.sql.session.SparkSession at 0x210eeaa6d20>"
      ]
     },
     "execution_count": 4,
     "metadata": {},
     "output_type": "execute_result"
    }
   ],
   "source": [
    "spark"
   ]
  },
  {
   "cell_type": "markdown",
   "id": "99e06d89-42ca-481a-b15a-fc91b2ccf0b2",
   "metadata": {},
   "source": [
    "## Подключаемся к источникам"
   ]
  },
  {
   "cell_type": "markdown",
   "id": "0c494523-0f84-46d0-a4ed-aedba591a59a",
   "metadata": {},
   "source": [
    "### csv"
   ]
  },
  {
   "cell_type": "code",
   "execution_count": 6,
   "id": "c2937cc2-4db9-4170-b878-05d20bade443",
   "metadata": {},
   "outputs": [],
   "source": [
    "path = 'E:\\\\EDesktop\\\\Webinar\\\\data'"
   ]
  },
  {
   "cell_type": "code",
   "execution_count": null,
   "id": "e2c7b746-2641-4f10-a406-e35de0a738ce",
   "metadata": {},
   "outputs": [],
   "source": [
    "campaigns_dict = (\n",
    "    spark.read\n",
    "    .option('header', True)\n",
    "    .csv(f'{path}\\\\campaigns_dict.csv')\n",
    ")"
   ]
  },
  {
   "cell_type": "code",
   "execution_count": 9,
   "id": "aa91c891",
   "metadata": {},
   "outputs": [
    {
     "name": "stdout",
     "output_type": "stream",
     "text": [
      "+-----------+------------------------------------------+\n",
      "|campaign_id|campaign_name                             |\n",
      "+-----------+------------------------------------------+\n",
      "|1          |year_modern_kitchen_launch_20250115       |\n",
      "|2          |quarter_custom_kitchens_showcase_20240210 |\n",
      "|3          |month_smart_kitchen_promotion_20240305    |\n",
      "|4          |year_luxury_kitchens_exhibit_20240420     |\n",
      "|5          |quarter_ecofriendly_kitchen_offer_20240512|\n",
      "+-----------+------------------------------------------+\n",
      "only showing top 5 rows\n",
      "\n"
     ]
    }
   ],
   "source": [
    "# ленивые вычисления\n",
    "campaigns_dict.show(5, truncate=False)"
   ]
  },
  {
   "cell_type": "code",
   "execution_count": 10,
   "id": "5acc17f0-1a17-4fe7-a4aa-55d8a7506b66",
   "metadata": {},
   "outputs": [
    {
     "name": "stdout",
     "output_type": "stream",
     "text": [
      "root\n",
      " |-- campaign_id: string (nullable = true)\n",
      " |-- campaign_name: string (nullable = true)\n",
      "\n"
     ]
    }
   ],
   "source": [
    "campaigns_dict.printSchema()"
   ]
  },
  {
   "cell_type": "markdown",
   "id": "455eeda6-b05e-4d14-8aeb-78e741c415b3",
   "metadata": {},
   "source": [
    "### parquet"
   ]
  },
  {
   "cell_type": "code",
   "execution_count": 11,
   "id": "d67d9c4a",
   "metadata": {},
   "outputs": [],
   "source": [
    "submits = spark.read.parquet(f'{path}\\\\submits.parquet')"
   ]
  },
  {
   "cell_type": "code",
   "execution_count": 12,
   "id": "55a80a64-5cf2-43cd-88d4-058fb7ab00a3",
   "metadata": {},
   "outputs": [
    {
     "name": "stdout",
     "output_type": "stream",
     "text": [
      "+---------+--------+-----------+\n",
      "|submit_id|name    |phone      |\n",
      "+---------+--------+-----------+\n",
      "|2282     |Jennifer|79511904041|\n",
      "|9898     |Jeffrey |79824419733|\n",
      "|9005     |Linda   |79074725672|\n",
      "|1507     |Teresa  |79864203598|\n",
      "|3803     |Tanya   |79779567654|\n",
      "+---------+--------+-----------+\n",
      "only showing top 5 rows\n",
      "\n"
     ]
    }
   ],
   "source": [
    "submits.show(5, truncate=False)"
   ]
  },
  {
   "cell_type": "code",
   "execution_count": 13,
   "id": "b1ecb90f-5bc6-40ed-9ffc-d7dfb710ca26",
   "metadata": {},
   "outputs": [
    {
     "name": "stdout",
     "output_type": "stream",
     "text": [
      "root\n",
      " |-- submit_id: long (nullable = true)\n",
      " |-- name: string (nullable = true)\n",
      " |-- phone: long (nullable = true)\n",
      "\n"
     ]
    }
   ],
   "source": [
    "submits.printSchema()"
   ]
  },
  {
   "cell_type": "code",
   "execution_count": 14,
   "id": "a94caee0-586d-4ff4-934b-642104eb5781",
   "metadata": {},
   "outputs": [],
   "source": [
    "deals = spark.read.parquet(f'{path}\\\\deals.parquet')"
   ]
  },
  {
   "cell_type": "code",
   "execution_count": 15,
   "id": "b05a882b-3bfd-467f-9b69-45b12655a65f",
   "metadata": {},
   "outputs": [
    {
     "name": "stdout",
     "output_type": "stream",
     "text": [
      "+-------+----------+---------------------+-----------+------------------------+-----------------------------------------------------+\n",
      "|deal_id|deal_date |fio                  |phone      |email                   |address                                              |\n",
      "+-------+----------+---------------------+-----------+------------------------+-----------------------------------------------------+\n",
      "|1      |2024-03-04|Gregory Wu           |79746561889|paul80@example.net      |098 Yates Cliff Apt. 241, East Monica, DE 88076      |\n",
      "|2      |2024-08-20|William Ross Jr.     |79074725672|xyoung@example.org      |197 Willie Groves Apt. 655, Port Angelaberg, LA 39384|\n",
      "|3      |2024-10-15|Sonya Kerr           |79201244835|elewis@example.com      |144 Andrew Cape, Lake Nicholas, SC 58918             |\n",
      "|4      |2024-12-31|Mrs. Angela Tucker MD|79771829751|robertparker@example.net|6056 Collins View, South Harold, OR 15650            |\n",
      "|5      |2024-03-23|Eric Flores          |79729054809|barbara73@example.net   |29684 Mcfarland Burg Suite 225, New Joseph, PW 68120 |\n",
      "+-------+----------+---------------------+-----------+------------------------+-----------------------------------------------------+\n",
      "only showing top 5 rows\n",
      "\n"
     ]
    }
   ],
   "source": [
    "deals.show(5, truncate=False)"
   ]
  },
  {
   "cell_type": "code",
   "execution_count": 16,
   "id": "9648da5d-895c-4af4-af92-5f3e2c17d8ee",
   "metadata": {},
   "outputs": [
    {
     "name": "stdout",
     "output_type": "stream",
     "text": [
      "root\n",
      " |-- deal_id: long (nullable = true)\n",
      " |-- deal_date: string (nullable = true)\n",
      " |-- fio: string (nullable = true)\n",
      " |-- phone: long (nullable = true)\n",
      " |-- email: string (nullable = true)\n",
      " |-- address: string (nullable = true)\n",
      "\n"
     ]
    }
   ],
   "source": [
    "deals.printSchema()"
   ]
  },
  {
   "cell_type": "code",
   "execution_count": 17,
   "id": "5a852b3b-414b-4ed3-beab-0e8dff35b262",
   "metadata": {},
   "outputs": [],
   "source": [
    "import pyarrow as pa\n",
    "import pyarrow.parquet as pq"
   ]
  },
  {
   "cell_type": "code",
   "execution_count": 18,
   "id": "c1e573b2-df58-4fa3-b678-db870261ad1b",
   "metadata": {},
   "outputs": [
    {
     "data": {
      "text/plain": [
       "<pyarrow._parquet.FileMetaData object at 0x00000210EEF953F0>\n",
       "  created_by: parquet-cpp-arrow version 19.0.0\n",
       "  num_columns: 3\n",
       "  num_rows: 4000\n",
       "  num_row_groups: 1\n",
       "  format_version: 2.6\n",
       "  serialized_size: 2371"
      ]
     },
     "execution_count": 18,
     "metadata": {},
     "output_type": "execute_result"
    }
   ],
   "source": [
    "pq.read_metadata(f'{path}\\\\submits.parquet')"
   ]
  },
  {
   "cell_type": "code",
   "execution_count": 19,
   "id": "15593df1-8677-4300-a0d3-a9215920ae9f",
   "metadata": {},
   "outputs": [
    {
     "data": {
      "text/plain": [
       "<pyarrow._parquet.FileMetaData object at 0x00000210EEF889A0>\n",
       "  created_by: parquet-cpp-arrow version 19.0.0\n",
       "  num_columns: 6\n",
       "  num_rows: 2000\n",
       "  num_row_groups: 1\n",
       "  format_version: 2.6\n",
       "  serialized_size: 3733"
      ]
     },
     "execution_count": 19,
     "metadata": {},
     "output_type": "execute_result"
    }
   ],
   "source": [
    "pq.read_metadata(f'{path}\\\\deals.parquet')"
   ]
  },
  {
   "cell_type": "markdown",
   "id": "dd26f19a-bb31-4419-9c12-75e177e656c9",
   "metadata": {},
   "source": [
    "### postgres"
   ]
  },
  {
   "cell_type": "code",
   "execution_count": 20,
   "id": "e5ea9d8c",
   "metadata": {},
   "outputs": [],
   "source": [
    "pg_host = 'localhost'\n",
    "pg_port = '5434'\n",
    "pg_db = 'webinar'\n",
    "pg_table = 'costs'\n",
    "pg_user = 'postgres'\n",
    "pg_password = 'postgres'"
   ]
  },
  {
   "cell_type": "code",
   "execution_count": 116,
   "id": "be5c5d56",
   "metadata": {},
   "outputs": [],
   "source": [
    "costs = (\n",
    "    spark.read\n",
    "    .format('jdbc')\n",
    "    .option('url', f'jdbc:postgresql://{pg_host}:{pg_port}/{pg_db}')\n",
    "    .option('dbtable', pg_table)\n",
    "    .option('user', pg_user)\n",
    "    .option('password', pg_password)\n",
    "    .option('driver', 'org.postgresql.Driver')\n",
    "    .load()\n",
    ")"
   ]
  },
  {
   "cell_type": "code",
   "execution_count": 117,
   "id": "26a48834",
   "metadata": {},
   "outputs": [
    {
     "name": "stdout",
     "output_type": "stream",
     "text": [
      "+----------+-----------+------+------+-----+\n",
      "|date      |campaign_id|costs |clicks|views|\n",
      "+----------+-----------+------+------+-----+\n",
      "|2024-01-01|1          |670.52|40    |110  |\n",
      "|2024-01-01|2          |602.5 |11    |849  |\n",
      "|2024-01-01|3          |654.74|51    |566  |\n",
      "|2024-01-01|4          |897.24|86    |679  |\n",
      "|2024-01-01|5          |758.19|30    |585  |\n",
      "+----------+-----------+------+------+-----+\n",
      "only showing top 5 rows\n",
      "\n"
     ]
    }
   ],
   "source": [
    "costs.show(5, truncate=False)"
   ]
  },
  {
   "cell_type": "code",
   "execution_count": 118,
   "id": "37fb3d4c",
   "metadata": {},
   "outputs": [
    {
     "name": "stdout",
     "output_type": "stream",
     "text": [
      "root\n",
      " |-- date: date (nullable = true)\n",
      " |-- campaign_id: integer (nullable = true)\n",
      " |-- costs: double (nullable = true)\n",
      " |-- clicks: integer (nullable = true)\n",
      " |-- views: integer (nullable = true)\n",
      "\n"
     ]
    }
   ],
   "source": [
    "costs.printSchema()"
   ]
  },
  {
   "cell_type": "code",
   "execution_count": 119,
   "id": "27b14d03-fffc-4495-9272-3a07ceca7628",
   "metadata": {},
   "outputs": [
    {
     "data": {
      "text/plain": [
       "39300"
      ]
     },
     "execution_count": 119,
     "metadata": {},
     "output_type": "execute_result"
    }
   ],
   "source": [
    "costs.count()"
   ]
  },
  {
   "cell_type": "markdown",
   "id": "3b512b56-bf3f-4080-8485-478ae6a6c03b",
   "metadata": {},
   "source": [
    "### clickhouse"
   ]
  },
  {
   "cell_type": "code",
   "execution_count": 34,
   "id": "5591539e-f462-458e-82cf-592390c4ee58",
   "metadata": {},
   "outputs": [],
   "source": [
    "from clickhouse_creds import ch_list"
   ]
  },
  {
   "cell_type": "code",
   "execution_count": 35,
   "id": "56671eb7",
   "metadata": {},
   "outputs": [],
   "source": [
    "ch_host, ch_port, ch_db, ch_table, ch_user, ch_password = ch_list"
   ]
  },
  {
   "cell_type": "code",
   "execution_count": 38,
   "id": "cc87b48d",
   "metadata": {},
   "outputs": [],
   "source": [
    "visits = (\n",
    "    spark.read\n",
    "    .format('jdbc')\n",
    "    .option('url', f'jdbc:clickhouse://{ch_host}:{ch_port}/{ch_db}?ssl=true&sslmode=STRICT')\n",
    "    .option('dbtable', ch_table)\n",
    "    .option('user', ch_user)\n",
    "    .option('password', ch_password)\n",
    "    .option('driver', 'com.clickhouse.jdbc.ClickHouseDriver')\n",
    "    .load()\n",
    ")"
   ]
  },
  {
   "cell_type": "code",
   "execution_count": 33,
   "id": "2051f15f",
   "metadata": {},
   "outputs": [
    {
     "name": "stdout",
     "output_type": "stream",
     "text": [
      "+-------+-------------------+--------------------+--------+--------+--------+--------------------+----------------+\n",
      "|visitid|      visitDateTime|                 URL|duration|clientID|  source|         UTMCampaign|          params|\n",
      "+-------+-------------------+--------------------+--------+--------+--------+--------------------+----------------+\n",
      "| 189665|2024-01-01 03:19:38|https://our-cool-...|      78|     848|  direct|quarter_ecofriend...|['submit', 2136]|\n",
      "| 504698|2024-01-01 03:59:20|https://our-cool-...|       8|     527|  direct|year_modern_kitch...|['submit', 4630]|\n",
      "| 632370|2024-01-01 04:49:09|https://our-cool-...|      72|     520| organic|quarter_ecofriend...|['submit', 2734]|\n",
      "| 943112|2024-01-01 05:20:28|https://our-cool-...|      14|     117| organic|month_openconcept...|['submit', 5299]|\n",
      "| 139778|2024-01-01 10:31:30|https://our-cool-...|      73|     655|internal|month_contemporar...| ['submit', 419]|\n",
      "+-------+-------------------+--------------------+--------+--------+--------+--------------------+----------------+\n",
      "only showing top 5 rows\n",
      "\n"
     ]
    }
   ],
   "source": [
    "visits.show(5)"
   ]
  },
  {
   "cell_type": "code",
   "execution_count": 39,
   "id": "1370895c-e12c-4337-bc46-3f6096c22123",
   "metadata": {},
   "outputs": [
    {
     "name": "stdout",
     "output_type": "stream",
     "text": [
      "-RECORD 0-----------------------------------------------------\n",
      " visitid       | 189665                                       \n",
      " visitDateTime | 2024-01-01 03:19:38                          \n",
      " URL           | https://our-cool-website.com/checkout        \n",
      " duration      | 78                                           \n",
      " clientID      | 848                                          \n",
      " source        | direct                                       \n",
      " UTMCampaign   | quarter_ecofriendly_kitchens_launch_20240205 \n",
      " params        | ['submit', 2136]                             \n",
      "only showing top 1 row\n",
      "\n"
     ]
    }
   ],
   "source": [
    "visits.show(1, truncate=False, vertical=True)"
   ]
  },
  {
   "cell_type": "markdown",
   "id": "f80ae79f-fffb-456e-9ff5-99c28f227a59",
   "metadata": {},
   "source": [
    "## Готовим источники"
   ]
  },
  {
   "cell_type": "markdown",
   "id": "d1f32d2f-28ae-41ea-9e0d-b7e9bb4ae330",
   "metadata": {},
   "source": [
    "### Визиты (clickhouse)"
   ]
  },
  {
   "cell_type": "code",
   "execution_count": 40,
   "id": "f87f2fcc",
   "metadata": {},
   "outputs": [
    {
     "name": "stdout",
     "output_type": "stream",
     "text": [
      "root\n",
      " |-- visitid: integer (nullable = true)\n",
      " |-- visitDateTime: timestamp (nullable = true)\n",
      " |-- URL: string (nullable = true)\n",
      " |-- duration: integer (nullable = true)\n",
      " |-- clientID: integer (nullable = true)\n",
      " |-- source: string (nullable = true)\n",
      " |-- UTMCampaign: string (nullable = true)\n",
      " |-- params: string (nullable = true)\n",
      "\n"
     ]
    }
   ],
   "source": [
    "visits.printSchema()"
   ]
  },
  {
   "cell_type": "code",
   "execution_count": 41,
   "id": "1d3a04b4",
   "metadata": {},
   "outputs": [
    {
     "name": "stdout",
     "output_type": "stream",
     "text": [
      "+-------+-------------------+--------------------+--------+--------+------+--------------------+----------------+\n",
      "|visitid|      visitDateTime|                 URL|duration|clientID|source|         UTMCampaign|          params|\n",
      "+-------+-------------------+--------------------+--------+--------+------+--------------------+----------------+\n",
      "| 189665|2024-01-01 03:19:38|https://our-cool-...|      78|     848|direct|quarter_ecofriend...|['submit', 2136]|\n",
      "+-------+-------------------+--------------------+--------+--------+------+--------------------+----------------+\n",
      "only showing top 1 row\n",
      "\n"
     ]
    }
   ],
   "source": [
    "visits.show(1)"
   ]
  },
  {
   "cell_type": "code",
   "execution_count": 40,
   "id": "74b730dd",
   "metadata": {},
   "outputs": [],
   "source": [
    "# кх\n",
    "filtered_step1 = (\n",
    "    visits\n",
    "    .withColumn('dt', F.date_format(F.col('visitDateTime'), 'yyyy-MM-dd'))\n",
    "    .where(F.col('dt') >= '2024-01-01')\n",
    "    .where(F.col('dt') < '2025-01-28')\n",
    "    .where(F.col('source').isin('ad', 'direct'))\n",
    "    .where(F.col('URL').rlike('.*checkout.*|.*add.*|.*home.*|.*contact.*|.*top50.*|.*customer-service.*|.*wishlist.*|.*sale.*|.*best-sellers.*|.*view.*|.*discount.*|.*featured.*|.*new-arrivals.*|.*settings.*|.*return-policy.*|.*edit.*|.*delete.*|.*reviews.*|.*products.*|.*about.*'))\n",
    "    .select(\n",
    "        'dt',\n",
    "        'visitid',\n",
    "        'clientID',\n",
    "        'URL',\n",
    "        'duration',\n",
    "        'source',\n",
    "        'UTMCampaign',\n",
    "        'params',\n",
    "        F.regexp_replace(F.col('params'), r'\\[|\\]', '').alias('params_regex'),\n",
    "        F.split(F.regexp_replace(F.col('params'), r'\\[|\\]', ''), ', ').alias('params_split')\n",
    "    )\n",
    ")"
   ]
  },
  {
   "cell_type": "code",
   "execution_count": 41,
   "id": "ec51ae40",
   "metadata": {},
   "outputs": [
    {
     "name": "stdout",
     "output_type": "stream",
     "text": [
      "-RECORD 0----------------------------------------------------\n",
      " dt           | 2024-01-01                                   \n",
      " visitid      | 189665                                       \n",
      " clientID     | 848                                          \n",
      " URL          | https://our-cool-website.com/checkout        \n",
      " duration     | 78                                           \n",
      " source       | direct                                       \n",
      " UTMCampaign  | quarter_ecofriendly_kitchens_launch_20240205 \n",
      " params       | ['submit', 2136]                             \n",
      " params_regex | 'submit', 2136                               \n",
      " params_split | ['submit', 2136]                             \n",
      "only showing top 1 row\n",
      "\n"
     ]
    }
   ],
   "source": [
    "filtered_step1.show(1, truncate=False, vertical=True)"
   ]
  },
  {
   "cell_type": "code",
   "execution_count": 53,
   "id": "0c4896bf",
   "metadata": {},
   "outputs": [
    {
     "name": "stdout",
     "output_type": "stream",
     "text": [
      "root\n",
      " |-- dt: string (nullable = true)\n",
      " |-- visitid: integer (nullable = true)\n",
      " |-- clientID: integer (nullable = true)\n",
      " |-- URL: string (nullable = true)\n",
      " |-- duration: integer (nullable = true)\n",
      " |-- source: string (nullable = true)\n",
      " |-- UTMCampaign: string (nullable = true)\n",
      " |-- params: string (nullable = true)\n",
      " |-- params_regex: string (nullable = true)\n",
      " |-- params_split: array (nullable = true)\n",
      " |    |-- element: string (containsNull = true)\n",
      "\n"
     ]
    }
   ],
   "source": [
    "filtered_step1.printSchema()"
   ]
  },
  {
   "cell_type": "code",
   "execution_count": 42,
   "id": "cccef3c8",
   "metadata": {},
   "outputs": [],
   "source": [
    "filtered_step2 = (\n",
    "    filtered_step1\n",
    "    .withColumn('event_type', F.regexp_replace(F.col('params_split')[0], \"'\", ''))\n",
    "    .withColumn('event_id', F.col('params_split')[1].cast('int'))\n",
    ")"
   ]
  },
  {
   "cell_type": "code",
   "execution_count": 57,
   "id": "b12ffa14",
   "metadata": {},
   "outputs": [
    {
     "name": "stdout",
     "output_type": "stream",
     "text": [
      "-RECORD 0----------------------------------------------------\n",
      " dt           | 2024-01-01                                   \n",
      " visitid      | 189665                                       \n",
      " clientID     | 848                                          \n",
      " URL          | https://our-cool-website.com/checkout        \n",
      " duration     | 78                                           \n",
      " source       | direct                                       \n",
      " UTMCampaign  | quarter_ecofriendly_kitchens_launch_20240205 \n",
      " params       | ['submit', 2136]                             \n",
      " params_regex | 'submit', 2136                               \n",
      " params_split | ['submit', 2136]                             \n",
      " event_type   | submit                                       \n",
      " event_id     | 2136                                         \n",
      "only showing top 1 row\n",
      "\n"
     ]
    }
   ],
   "source": [
    "filtered_step2.show(1, truncate=False, vertical=True)"
   ]
  },
  {
   "cell_type": "code",
   "execution_count": 43,
   "id": "9b9076f4",
   "metadata": {},
   "outputs": [],
   "source": [
    "visits_df = (\n",
    "    filtered_step2\n",
    "    .where(F.col('event_type') == 'submit')\n",
    "    .select(\n",
    "        'dt',\n",
    "        'visitid',\n",
    "        'clientID',\n",
    "        'URL',\n",
    "        'duration',\n",
    "        'source',\n",
    "        'UTMCampaign',\n",
    "        'event_type',\n",
    "        'event_id'\n",
    "    )\n",
    ")"
   ]
  },
  {
   "cell_type": "code",
   "execution_count": 59,
   "id": "ac624766",
   "metadata": {},
   "outputs": [
    {
     "name": "stdout",
     "output_type": "stream",
     "text": [
      "-RECORD 0---------------------------------------------------\n",
      " dt          | 2024-01-01                                   \n",
      " visitid     | 189665                                       \n",
      " clientID    | 848                                          \n",
      " URL         | https://our-cool-website.com/checkout        \n",
      " duration    | 78                                           \n",
      " source      | direct                                       \n",
      " UTMCampaign | quarter_ecofriendly_kitchens_launch_20240205 \n",
      " event_type  | submit                                       \n",
      " event_id    | 2136                                         \n",
      "only showing top 1 row\n",
      "\n"
     ]
    }
   ],
   "source": [
    "visits_df.show(1, truncate=False, vertical=True)"
   ]
  },
  {
   "cell_type": "code",
   "execution_count": 48,
   "id": "83b8e8ad-ef1c-482e-8ffe-840acef4f1d6",
   "metadata": {},
   "outputs": [
    {
     "name": "stdout",
     "output_type": "stream",
     "text": [
      "root\n",
      " |-- dt: string (nullable = true)\n",
      " |-- visitid: integer (nullable = true)\n",
      " |-- clientID: integer (nullable = true)\n",
      " |-- URL: string (nullable = true)\n",
      " |-- duration: integer (nullable = true)\n",
      " |-- source: string (nullable = true)\n",
      " |-- UTMCampaign: string (nullable = true)\n",
      " |-- event_type: string (nullable = true)\n",
      " |-- event_id: integer (nullable = true)\n",
      "\n"
     ]
    }
   ],
   "source": [
    "visits_df.printSchema()"
   ]
  },
  {
   "cell_type": "code",
   "execution_count": 44,
   "id": "c1ab1c4e",
   "metadata": {},
   "outputs": [
    {
     "data": {
      "text/plain": [
       "2433"
      ]
     },
     "execution_count": 44,
     "metadata": {},
     "output_type": "execute_result"
    }
   ],
   "source": [
    "visits_df.count()"
   ]
  },
  {
   "cell_type": "markdown",
   "id": "4ec8dba6-cc3c-40d7-89b7-d338cfdc4352",
   "metadata": {},
   "source": [
    "### Расходы (postgres)"
   ]
  },
  {
   "cell_type": "code",
   "execution_count": 120,
   "id": "f7b30f05",
   "metadata": {},
   "outputs": [],
   "source": [
    "costs_df = (\n",
    "    costs\n",
    "    .groupBy(\n",
    "        F.col('date').cast('string').alias('date'),\n",
    "        'campaign_id'\n",
    "    )\n",
    "    .agg(\n",
    "        F.sum(F.col('costs')).cast('decimal(19,2)').alias('costs'),\n",
    "        F.sum(F.col('clicks')).alias('clicks'),\n",
    "        F.sum(F.col('views')).alias('views')\n",
    "    )\n",
    ")"
   ]
  },
  {
   "cell_type": "code",
   "execution_count": 121,
   "id": "b2062bd4",
   "metadata": {},
   "outputs": [
    {
     "name": "stdout",
     "output_type": "stream",
     "text": [
      "+----------+-----------+------+------+-----+\n",
      "|      date|campaign_id| costs|clicks|views|\n",
      "+----------+-----------+------+------+-----+\n",
      "|2024-01-05|         75|107.03|    26|  958|\n",
      "|2024-01-05|         97|408.51|    59|  292|\n",
      "|2024-01-06|         44|748.68|    33|  380|\n",
      "|2024-01-06|         58|422.91|    30|  575|\n",
      "|2024-01-11|         91|496.45|     5|  435|\n",
      "+----------+-----------+------+------+-----+\n",
      "only showing top 5 rows\n",
      "\n"
     ]
    }
   ],
   "source": [
    "costs_df.show(5)"
   ]
  },
  {
   "cell_type": "code",
   "execution_count": 122,
   "id": "d115221d-0e40-4b1d-b34d-bf6133694cfc",
   "metadata": {},
   "outputs": [
    {
     "data": {
      "text/plain": [
       "39300"
      ]
     },
     "execution_count": 122,
     "metadata": {},
     "output_type": "execute_result"
    }
   ],
   "source": [
    "costs_df.count()"
   ]
  },
  {
   "cell_type": "code",
   "execution_count": 47,
   "id": "d5d530fa",
   "metadata": {},
   "outputs": [
    {
     "name": "stdout",
     "output_type": "stream",
     "text": [
      "root\n",
      " |-- date: string (nullable = true)\n",
      " |-- campaign_id: integer (nullable = true)\n",
      " |-- costs: decimal(19,2) (nullable = true)\n",
      " |-- clicks: long (nullable = true)\n",
      " |-- views: long (nullable = true)\n",
      "\n"
     ]
    }
   ],
   "source": [
    "costs_df.printSchema()"
   ]
  },
  {
   "cell_type": "markdown",
   "id": "fcb06153-03d1-43d1-9bfa-46a461982b27",
   "metadata": {},
   "source": [
    "### Кампании (csv)"
   ]
  },
  {
   "cell_type": "code",
   "execution_count": 51,
   "id": "6ab92f40",
   "metadata": {},
   "outputs": [
    {
     "name": "stdout",
     "output_type": "stream",
     "text": [
      "+-----------+-----------------------------------+\n",
      "|campaign_id|campaign_name                      |\n",
      "+-----------+-----------------------------------+\n",
      "|1          |year_modern_kitchen_launch_20250115|\n",
      "+-----------+-----------------------------------+\n",
      "only showing top 1 row\n",
      "\n"
     ]
    }
   ],
   "source": [
    "campaigns_dict.show(1, truncate=False)"
   ]
  },
  {
   "cell_type": "code",
   "execution_count": 52,
   "id": "ff6dc19d",
   "metadata": {},
   "outputs": [
    {
     "name": "stdout",
     "output_type": "stream",
     "text": [
      "root\n",
      " |-- campaign_id: string (nullable = true)\n",
      " |-- campaign_name: string (nullable = true)\n",
      "\n"
     ]
    }
   ],
   "source": [
    "campaigns_dict.printSchema()"
   ]
  },
  {
   "cell_type": "code",
   "execution_count": 53,
   "id": "430c698c",
   "metadata": {},
   "outputs": [],
   "source": [
    "campaigns_df = (\n",
    "    campaigns_dict\n",
    "    .withColumn('campaign_id', F.col('campaign_id').cast('integer'))\n",
    ")"
   ]
  },
  {
   "cell_type": "code",
   "execution_count": 54,
   "id": "5f8aaea9",
   "metadata": {},
   "outputs": [
    {
     "name": "stdout",
     "output_type": "stream",
     "text": [
      "root\n",
      " |-- campaign_id: integer (nullable = true)\n",
      " |-- campaign_name: string (nullable = true)\n",
      "\n"
     ]
    }
   ],
   "source": [
    "campaigns_df.printSchema()"
   ]
  },
  {
   "cell_type": "markdown",
   "id": "8bd8b9a7-c2e9-4bd7-936f-79d906bbe732",
   "metadata": {},
   "source": [
    "### Заявки (parquet)"
   ]
  },
  {
   "cell_type": "code",
   "execution_count": 56,
   "id": "5c76bb79-b407-416e-a660-258047df0caf",
   "metadata": {},
   "outputs": [
    {
     "name": "stdout",
     "output_type": "stream",
     "text": [
      "root\n",
      " |-- submit_id: long (nullable = true)\n",
      " |-- name: string (nullable = true)\n",
      " |-- phone: long (nullable = true)\n",
      "\n"
     ]
    }
   ],
   "source": [
    "submits.printSchema()"
   ]
  },
  {
   "cell_type": "code",
   "execution_count": 57,
   "id": "435ec1f0-24bb-4e55-a707-7a92ec2c6ada",
   "metadata": {},
   "outputs": [
    {
     "name": "stdout",
     "output_type": "stream",
     "text": [
      "+---------+--------+-----------+\n",
      "|submit_id|    name|      phone|\n",
      "+---------+--------+-----------+\n",
      "|     2282|Jennifer|79511904041|\n",
      "+---------+--------+-----------+\n",
      "only showing top 1 row\n",
      "\n"
     ]
    }
   ],
   "source": [
    "submits.show(1)"
   ]
  },
  {
   "cell_type": "code",
   "execution_count": 65,
   "id": "be6a420a-282c-450f-848e-e284ee1cc920",
   "metadata": {},
   "outputs": [],
   "source": [
    "submits_df = (\n",
    "    submits\n",
    "    .withColumn('phone', F.col('phone').cast('string'))\n",
    "    .withColumn('phone_plus', F.concat(F.lit('+'), F.col('phone')))\n",
    "    .withColumn('phone_md5', F.md5('phone'))\n",
    "    .withColumn('phone_plus_md5', F.md5('phone_plus'))\n",
    ")"
   ]
  },
  {
   "cell_type": "code",
   "execution_count": 67,
   "id": "1257648c-e354-4fb3-890e-531499035ba6",
   "metadata": {},
   "outputs": [
    {
     "name": "stdout",
     "output_type": "stream",
     "text": [
      "+---------+--------+-----------+------------+--------------------------------+--------------------------------+\n",
      "|submit_id|name    |phone      |phone_plus  |phone_md5                       |phone_plus_md5                  |\n",
      "+---------+--------+-----------+------------+--------------------------------+--------------------------------+\n",
      "|2282     |Jennifer|79511904041|+79511904041|4c7720fdf6f9eec623dc0f961f31f488|6ce81d5347bcd3eadb2921b7c4828e3b|\n",
      "|9898     |Jeffrey |79824419733|+79824419733|9d106e45036bd4176774eb94adc9aacc|43630233dcc965f9827e394038b0321a|\n",
      "+---------+--------+-----------+------------+--------------------------------+--------------------------------+\n",
      "only showing top 2 rows\n",
      "\n"
     ]
    }
   ],
   "source": [
    "submits_df.show(2, truncate=False)"
   ]
  },
  {
   "cell_type": "markdown",
   "id": "4cda030f-24be-49b4-8ab0-ffef104acbca",
   "metadata": {},
   "source": [
    "### Сделки (parquet)"
   ]
  },
  {
   "cell_type": "code",
   "execution_count": 68,
   "id": "efdb6dc4-e007-4820-8b96-92ee77a00109",
   "metadata": {},
   "outputs": [
    {
     "name": "stdout",
     "output_type": "stream",
     "text": [
      "root\n",
      " |-- deal_id: long (nullable = true)\n",
      " |-- deal_date: string (nullable = true)\n",
      " |-- fio: string (nullable = true)\n",
      " |-- phone: long (nullable = true)\n",
      " |-- email: string (nullable = true)\n",
      " |-- address: string (nullable = true)\n",
      "\n"
     ]
    }
   ],
   "source": [
    "deals.printSchema()"
   ]
  },
  {
   "cell_type": "code",
   "execution_count": 69,
   "id": "3b936a37-ff2b-4908-96d2-96cbf64b500e",
   "metadata": {},
   "outputs": [],
   "source": [
    "deals_df = (\n",
    "    deals\n",
    "    .withColumn('phone', F.col('phone').cast('string'))\n",
    ")"
   ]
  },
  {
   "cell_type": "code",
   "execution_count": 70,
   "id": "7092951f-54f5-42e7-a628-f9f74bdd8a3e",
   "metadata": {},
   "outputs": [
    {
     "name": "stdout",
     "output_type": "stream",
     "text": [
      "+-------+----------+----------+-----------+------------------+--------------------+\n",
      "|deal_id| deal_date|       fio|      phone|             email|             address|\n",
      "+-------+----------+----------+-----------+------------------+--------------------+\n",
      "|      1|2024-03-04|Gregory Wu|79746561889|paul80@example.net|098 Yates Cliff A...|\n",
      "+-------+----------+----------+-----------+------------------+--------------------+\n",
      "only showing top 1 row\n",
      "\n"
     ]
    }
   ],
   "source": [
    "deals_df.show(1)"
   ]
  },
  {
   "cell_type": "code",
   "execution_count": 72,
   "id": "5756c606-27ab-4d51-befd-6255ff576e74",
   "metadata": {},
   "outputs": [
    {
     "name": "stdout",
     "output_type": "stream",
     "text": [
      "root\n",
      " |-- deal_id: long (nullable = true)\n",
      " |-- deal_date: string (nullable = true)\n",
      " |-- fio: string (nullable = true)\n",
      " |-- phone: string (nullable = true)\n",
      " |-- email: string (nullable = true)\n",
      " |-- address: string (nullable = true)\n",
      "\n"
     ]
    }
   ],
   "source": [
    "deals_df.printSchema()"
   ]
  },
  {
   "cell_type": "markdown",
   "id": "8f88ba84-8040-4477-8ee0-e3ef1a16056a",
   "metadata": {},
   "source": [
    "## Собираем витрину"
   ]
  },
  {
   "cell_type": "code",
   "execution_count": 131,
   "id": "50a54002-03b7-439c-adb1-ecf1a539ad09",
   "metadata": {},
   "outputs": [],
   "source": [
    "final_df = (\n",
    "    visits_df.alias('v')\n",
    "    .join(\n",
    "        submits_df.alias('s'),\n",
    "        F.col('v.event_id') == F.col('s.submit_id'),\n",
    "        'left'\n",
    "    )\n",
    "    .join(\n",
    "        deals_df.alias('d'),\n",
    "        (F.col('s.phone') == F.col('d.phone')) &\n",
    "        (F.col('v.dt') <= F.col('d.deal_date')),\n",
    "        'left'\n",
    "    )\n",
    "    .join(\n",
    "        campaigns_df.alias('camp'),\n",
    "        F.col('v.utmcampaign') == F.col('camp.campaign_name'),\n",
    "        'left'\n",
    "    )\n",
    "    .join(\n",
    "        costs_df.alias('c'),\n",
    "        (F.col('camp.campaign_id') == F.col('c.campaign_id')) &\n",
    "        (F.col('v.dt') == F.col('c.date')),\n",
    "        'left'\n",
    "    )\n",
    ")"
   ]
  },
  {
   "cell_type": "code",
   "execution_count": 162,
   "id": "065768c2-d713-447b-ad45-827617840109",
   "metadata": {},
   "outputs": [
    {
     "data": {
      "text/plain": [
       "DataFrame[dt: string, visitid: int, clientID: int, URL: string, duration: int, source: string, UTMCampaign: string, event_type: string, event_id: int, submit_id: bigint, name: string, phone: string, phone_plus: string, phone_md5: string, phone_plus_md5: string, deal_id: bigint, deal_date: string, fio: string, phone: string, email: string, address: string, campaign_id: int, campaign_name: string, date: string, campaign_id: int, costs: decimal(19,2), clicks: bigint, views: bigint]"
      ]
     },
     "execution_count": 162,
     "metadata": {},
     "output_type": "execute_result"
    }
   ],
   "source": [
    "final_df.cache()"
   ]
  },
  {
   "cell_type": "code",
   "execution_count": 163,
   "id": "79f7e827-bb1e-4403-9be8-6c8fdb294beb",
   "metadata": {},
   "outputs": [
    {
     "data": {
      "text/plain": [
       "2639"
      ]
     },
     "execution_count": 163,
     "metadata": {},
     "output_type": "execute_result"
    }
   ],
   "source": [
    "final_df.count()"
   ]
  },
  {
   "cell_type": "markdown",
   "id": "32ae92f4-f484-468b-a965-0ed30027ae8a",
   "metadata": {},
   "source": [
    "## Считаем метрики и анализируем результаты"
   ]
  },
  {
   "cell_type": "code",
   "execution_count": 145,
   "id": "63a0387a-2a9d-4802-ab40-602adf1016e9",
   "metadata": {},
   "outputs": [],
   "source": [
    "final_df_agg3 = (\n",
    "    final_df\n",
    "    .groupBy('camp.campaign_name')\n",
    "    .agg(\n",
    "        F.countDistinct('visitid').alias('unique_visits'),\n",
    "        F.countDistinct('clientid').alias('unique_clients'),\n",
    "        F.countDistinct('submit_id').alias('unique_submits'),\n",
    "        F.countDistinct('deal_id').alias('unique_deals'),\n",
    "        F.sum('costs').alias('total_costs'),\n",
    "        F.sum('clicks').alias('total_clicks'),\n",
    "        F.sum('views').alias('total_views')\n",
    "    )\n",
    "    .withColumn('avg_deal_cost', (F.col('total_costs') / F.col('unique_deals')).cast('decimal(19,2)'))\n",
    ")"
   ]
  },
  {
   "cell_type": "code",
   "execution_count": 148,
   "id": "6909ec75-714b-4bd0-9129-1ccfcff89a7c",
   "metadata": {},
   "outputs": [
    {
     "name": "stdout",
     "output_type": "stream",
     "text": [
      "+-----------------------------------------------+-----------+------------+\n",
      "|campaign_name                                  |total_costs|unique_deals|\n",
      "+-----------------------------------------------+-----------+------------+\n",
      "|month_contemporary_kitchens_event_20241208     |8277.73    |0           |\n",
      "|quarter_custom_kitchens_showcase_20240210      |8397.63    |0           |\n",
      "|month_smart_kitchens_launch_20240330           |8703.22    |0           |\n",
      "|month_smart_kitchen_promotion_20240305         |10276.42   |0           |\n",
      "|month_ecofriendly_kitchens_experience_20241219 |10559.40   |0           |\n",
      "|month_contemporary_kitchens_event_20240920     |10640.55   |0           |\n",
      "|quarter_ecofriendly_kitchen_experience_20241119|10804.92   |0           |\n",
      "|year_traditional_kitchens_showcase_20241018    |11655.58   |0           |\n",
      "|year_modern_kitchens_demo_20240419             |12028.69   |0           |\n",
      "|quarter_luxury_kitchens_innovation_20241116    |12894.26   |0           |\n",
      "|month_openconcept_kitchens_initiative_20240328 |13321.93   |0           |\n",
      "|month_openconcept_kitchens_experience_20240910 |14042.09   |0           |\n",
      "|quarter_custom_kitchens_experience_20240527    |15456.61   |0           |\n",
      "+-----------------------------------------------+-----------+------------+\n",
      "\n"
     ]
    }
   ],
   "source": [
    "(\n",
    "    final_df_agg3\n",
    "    .where('unique_deals = 0')\n",
    "    .select('campaign_name', 'total_costs', 'unique_deals')\n",
    "    .sort('total_costs')\n",
    "    .show(truncate=False)\n",
    ")"
   ]
  },
  {
   "cell_type": "code",
   "execution_count": 147,
   "id": "ac86acbd-85aa-455c-9868-7720b5ee4d1d",
   "metadata": {},
   "outputs": [
    {
     "name": "stdout",
     "output_type": "stream",
     "text": [
      "+------------------------------------------------+-----------+------------+-------------+\n",
      "|campaign_name                                   |total_costs|unique_deals|avg_deal_cost|\n",
      "+------------------------------------------------+-----------+------------+-------------+\n",
      "|year_modern_kitchens_showcase_20241014          |10936.74   |8           |1367.09      |\n",
      "|quarter_custom_kitchens_innovation_20240817     |15422.19   |10          |1542.22      |\n",
      "|month_contemporary_kitchens_promotion_20241215  |12423.61   |8           |1552.95      |\n",
      "|quarter_custom_kitchens_experience_20240222     |15455.11   |9           |1717.23      |\n",
      "|year_modern_kitchen_experience_20240702         |9068.35    |5           |1813.67      |\n",
      "|year_smart_kitchens_initiative_20241004         |12958.53   |6           |2159.76      |\n",
      "|quarter_custom_kitchen_initiative_20241102      |18846.27   |8           |2355.78      |\n",
      "|month_openconcept_kitchens_promotion_20240628   |15318.45   |6           |2553.08      |\n",
      "|year_traditional_kitchens_fair_20240415         |20811.03   |8           |2601.38      |\n",
      "|year_smart_kitchens_event_20250102              |13104.20   |5           |2620.84      |\n",
      "|quarter_ecofriendly_kitchens_demo_20240514      |7883.50    |3           |2627.83      |\n",
      "|quarter_spacesaving_kitchens_innovation_20240212|16360.49   |6           |2726.75      |\n",
      "|year_modern_kitchens_exhibit_20250117           |11588.74   |4           |2897.19      |\n",
      "|month_openconcept_kitchens_launch_20240611      |11876.59   |4           |2969.15      |\n",
      "|month_smart_kitchen_innovation_20241202         |12190.29   |4           |3047.57      |\n",
      "|year_luxury_kitchens_innovation_20240409        |12445.78   |4           |3111.45      |\n",
      "|year_luxury_kitchens_initiative_20240422        |15571.00   |5           |3114.20      |\n",
      "|quarter_custom_kitchens_event_20240223          |12704.20   |4           |3176.05      |\n",
      "|month_contemporary_kitchens_initiative_20240928 |12734.58   |4           |3183.65      |\n",
      "|quarter_ecofriendly_kitchens_show_20240217      |17046.15   |5           |3409.23      |\n",
      "+------------------------------------------------+-----------+------------+-------------+\n",
      "only showing top 20 rows\n",
      "\n"
     ]
    }
   ],
   "source": [
    "(\n",
    "    final_df_agg3\n",
    "    .where('unique_deals > 0')\n",
    "    .select('campaign_name', 'total_costs', 'unique_deals', 'avg_deal_cost')\n",
    "    .sort('avg_deal_cost')\n",
    "    .show(truncate=False)\n",
    ")"
   ]
  },
  {
   "cell_type": "code",
   "execution_count": 149,
   "id": "df67facf-1c0d-4165-b8b2-94504bb68068",
   "metadata": {},
   "outputs": [
    {
     "name": "stdout",
     "output_type": "stream",
     "text": [
      "+-----------------------------------------------+-----------+------------+-------------+\n",
      "|campaign_name                                  |total_costs|unique_deals|avg_deal_cost|\n",
      "+-----------------------------------------------+-----------+------------+-------------+\n",
      "|quarter_custom_kitchen_show_20240213           |16643.02   |1           |16643.02     |\n",
      "|month_contemporary_kitchen_showcase_20240630   |15908.47   |1           |15908.47     |\n",
      "|quarter_spacesaving_kitchen_innovation_20240825|15314.02   |1           |15314.02     |\n",
      "|year_luxury_kitchens_show_20241001             |15132.48   |1           |15132.48     |\n",
      "|year_traditional_kitchens_launch_20240707      |13893.29   |1           |13893.29     |\n",
      "|quarter_spacesaving_kitchen_showcase_20240228  |13126.07   |1           |13126.07     |\n",
      "|quarter_spacesaving_kitchen_innovation_20241103|13063.42   |1           |13063.42     |\n",
      "|month_custom_kitchens_show_20241205            |13045.27   |1           |13045.27     |\n",
      "|year_traditional_kitchens_experience_20240715  |12915.83   |1           |12915.83     |\n",
      "|year_luxury_kitchens_fair_20240716             |12740.17   |1           |12740.17     |\n",
      "|year_luxury_kitchens_exhibit_20240420          |12536.50   |1           |12536.50     |\n",
      "|year_traditional_kitchens_demo_20240725        |12243.64   |1           |12243.64     |\n",
      "|quarter_ecofriendly_kitchens_showcase_20240823 |11970.33   |1           |11970.33     |\n",
      "|month_contemporary_kitchen_launch_20240322     |11776.67   |1           |11776.67     |\n",
      "|month_smart_kitchens_event_20240614            |11721.06   |1           |11721.06     |\n",
      "|year_traditional_kitchens_initiative_20250105  |11587.21   |1           |11587.21     |\n",
      "|month_smart_kitchens_launch_20240905           |11558.59   |1           |11558.59     |\n",
      "|quarter_ecofriendly_kitchen_show_20240530      |11168.95   |1           |11168.95     |\n",
      "|year_luxury_kitchens_initiative_20241029       |18053.41   |2           |9026.71      |\n",
      "|year_modern_kitchen_initiative_20240408        |8816.60    |1           |8816.60      |\n",
      "+-----------------------------------------------+-----------+------------+-------------+\n",
      "only showing top 20 rows\n",
      "\n"
     ]
    }
   ],
   "source": [
    "(\n",
    "    final_df_agg3\n",
    "    .where('unique_deals > 0')\n",
    "    .select('campaign_name', 'total_costs', 'unique_deals', 'avg_deal_cost')\n",
    "    .sort('avg_deal_cost', ascending=False)\n",
    "    .show(truncate=False)\n",
    ")"
   ]
  },
  {
   "cell_type": "code",
   "execution_count": 154,
   "id": "7ffba609-2561-4437-ab1a-4c6f697cd3dc",
   "metadata": {},
   "outputs": [],
   "source": [
    "final_df_agg4 = (\n",
    "    final_df\n",
    "    .groupBy(F.substring('c.date', 1, 7).alias('month'))\n",
    "    .agg(\n",
    "        F.countDistinct('visitid').alias('unique_visits'),\n",
    "        F.countDistinct('clientid').alias('unique_clients'),\n",
    "        F.countDistinct('submit_id').alias('unique_submits'),\n",
    "        F.countDistinct('deal_id').alias('unique_deals'),\n",
    "        F.sum('costs').alias('total_costs'),\n",
    "        F.sum('clicks').alias('total_clicks'),\n",
    "        F.sum('views').alias('total_views')\n",
    "    )\n",
    "    .withColumn('avg_deal_cost', (F.col('total_costs') / F.col('unique_deals')).cast('decimal(19,2)'))\n",
    "    .sort('month')\n",
    ")"
   ]
  },
  {
   "cell_type": "code",
   "execution_count": 155,
   "id": "b4b61f43-8b0e-4e2c-a90b-9ca891a33a99",
   "metadata": {},
   "outputs": [
    {
     "name": "stdout",
     "output_type": "stream",
     "text": [
      "+-------+-------------+--------------+--------------+------------+-----------+------------+-----------+-------------+\n",
      "|  month|unique_visits|unique_clients|unique_submits|unique_deals|total_costs|total_clicks|total_views|avg_deal_cost|\n",
      "+-------+-------------+--------------+--------------+------------+-----------+------------+-----------+-------------+\n",
      "|2024-01|          202|           183|            66|          36|  108348.27|       10843|     122867|      3009.67|\n",
      "|2024-02|          185|           165|            56|          27|  101600.49|        8733|     102168|      3762.98|\n",
      "|2024-03|          183|           164|            58|          35|  100875.50|        9967|     101423|      2882.16|\n",
      "|2024-04|          184|           163|            53|          21|   97707.65|        9748|     104686|      4652.75|\n",
      "|2024-05|          191|           177|            68|          30|  101051.11|       10386|      98112|      3368.37|\n",
      "|2024-06|          212|           184|            72|          21|  122330.98|       10899|     118237|      5825.28|\n",
      "|2024-07|          226|           200|            98|          32|  126136.19|       11901|     125392|      3941.76|\n",
      "|2024-08|          186|           168|            60|          19|  100222.45|       10341|      90356|      5274.87|\n",
      "|2024-09|          192|           169|            68|          16|  100674.35|       10320|     101022|      6292.15|\n",
      "|2024-10|          166|           154|            48|           8|   89332.80|        8674|      88241|     11166.60|\n",
      "|2024-11|          169|           153|            55|          10|   94794.40|        8954|      94798|      9479.44|\n",
      "|2024-12|          194|           173|            61|           3|   94718.99|       10093|     101009|     31573.00|\n",
      "|2025-01|          143|           131|            49|           1|   75960.21|        7576|      79259|     75960.21|\n",
      "+-------+-------------+--------------+--------------+------------+-----------+------------+-----------+-------------+\n",
      "\n"
     ]
    }
   ],
   "source": [
    "final_df_agg4.show()"
   ]
  },
  {
   "cell_type": "code",
   "execution_count": 159,
   "id": "eeb55822-cd07-470b-ba15-11603e500db5",
   "metadata": {},
   "outputs": [
    {
     "name": "stdout",
     "output_type": "stream",
     "text": [
      "+-------+-------------+--------------+--------------+------------+-----------+------------+-----------+-------------+-------+---------+\n",
      "|  month|unique_visits|unique_clients|unique_submits|unique_deals|total_costs|total_clicks|total_views|avg_deal_cost|revenue|   profit|\n",
      "+-------+-------------+--------------+--------------+------------+-----------+------------+-----------+-------------+-------+---------+\n",
      "|2024-01|          202|           183|            66|          36|  108348.27|       10843|     122867|      3009.67| 180000| 71651.73|\n",
      "|2024-02|          185|           165|            56|          27|  101600.49|        8733|     102168|      3762.98| 135000| 33399.51|\n",
      "|2024-03|          183|           164|            58|          35|  100875.50|        9967|     101423|      2882.16| 175000| 74124.50|\n",
      "|2024-04|          184|           163|            53|          21|   97707.65|        9748|     104686|      4652.75| 105000|  7292.35|\n",
      "|2024-05|          191|           177|            68|          30|  101051.11|       10386|      98112|      3368.37| 150000| 48948.89|\n",
      "|2024-06|          212|           184|            72|          21|  122330.98|       10899|     118237|      5825.28| 105000|-17330.98|\n",
      "|2024-07|          226|           200|            98|          32|  126136.19|       11901|     125392|      3941.76| 160000| 33863.81|\n",
      "|2024-08|          186|           168|            60|          19|  100222.45|       10341|      90356|      5274.87|  95000| -5222.45|\n",
      "|2024-09|          192|           169|            68|          16|  100674.35|       10320|     101022|      6292.15|  80000|-20674.35|\n",
      "|2024-10|          166|           154|            48|           8|   89332.80|        8674|      88241|     11166.60|  40000|-49332.80|\n",
      "|2024-11|          169|           153|            55|          10|   94794.40|        8954|      94798|      9479.44|  50000|-44794.40|\n",
      "|2024-12|          194|           173|            61|           3|   94718.99|       10093|     101009|     31573.00|  15000|-79718.99|\n",
      "|2025-01|          143|           131|            49|           1|   75960.21|        7576|      79259|     75960.21|   5000|-70960.21|\n",
      "+-------+-------------+--------------+--------------+------------+-----------+------------+-----------+-------------+-------+---------+\n",
      "\n"
     ]
    }
   ],
   "source": [
    "# выручка\n",
    "(\n",
    "    final_df_agg4\n",
    "    .withColumn('revenue', F.col('unique_deals') * F.lit(5000))\n",
    "    .withColumn('profit', F.col('revenue') - F.col('total_costs'))\n",
    "    .show()\n",
    ")"
   ]
  },
  {
   "cell_type": "code",
   "execution_count": 160,
   "id": "24ed355b-ea59-4736-b9f6-a05e956bc413",
   "metadata": {},
   "outputs": [
    {
     "name": "stdout",
     "output_type": "stream",
     "text": [
      "+----------------+\n",
      "|sum(total_costs)|\n",
      "+----------------+\n",
      "|      1313753.39|\n",
      "+----------------+\n",
      "\n"
     ]
    }
   ],
   "source": [
    "final_df_agg4.select(F.sum('total_costs')).show()"
   ]
  },
  {
   "cell_type": "code",
   "execution_count": null,
   "id": "2cf1042c-c2b2-4962-870b-948c44d0710d",
   "metadata": {},
   "outputs": [],
   "source": []
  },
  {
   "cell_type": "code",
   "execution_count": 102,
   "id": "f1e79595-8bbd-4c36-b9a0-ad66b028bbd9",
   "metadata": {},
   "outputs": [],
   "source": [
    "final_df_agg = (\n",
    "    final_df\n",
    "    .groupBy('dt')\n",
    "    .agg(\n",
    "        F.countDistinct('visitid').alias('unique_visits'),\n",
    "        F.countDistinct('clientid').alias('unique_clients'),\n",
    "        F.countDistinct('submit_id').alias('unique_submits'),\n",
    "        F.countDistinct('deal_id').alias('unique_deals'),\n",
    "        F.sum('costs').alias('total_costs'),\n",
    "        F.sum('clicks').alias('total_clicks'),\n",
    "        F.sum('views').alias('total_views')\n",
    "    )\n",
    "    .sort('dt')\n",
    ")"
   ]
  },
  {
   "cell_type": "code",
   "execution_count": 103,
   "id": "865d15c4-1eb1-4b16-acc8-f68890144480",
   "metadata": {},
   "outputs": [
    {
     "name": "stdout",
     "output_type": "stream",
     "text": [
      "+----------+-------------+--------------+--------------+------------+-----------+------------+-----------+\n",
      "|        dt|unique_visits|unique_clients|unique_submits|unique_deals|total_costs|total_clicks|total_views|\n",
      "+----------+-------------+--------------+--------------+------------+-----------+------------+-----------+\n",
      "|2024-01-08|            1|             1|             1|           1|   57122.22|        1702|      13579|\n",
      "|2024-01-16|            1|             1|             1|           1|   73352.69|        9908|      15293|\n",
      "|2024-01-25|            1|             1|             1|           2|   25914.04|        7300|      84808|\n",
      "|2024-01-26|            1|             1|             1|           3|  193752.48|        3141|      55902|\n",
      "|2024-01-29|            1|             1|             1|           1|   92952.22|        2992|      29558|\n",
      "|2024-02-03|            1|             1|             1|           2|   25867.90|       12302|      66908|\n",
      "|2024-02-12|            1|             1|             1|           2|   52920.92|       10610|      79368|\n",
      "|2024-02-25|            1|             1|             1|           1|   74168.34|        3146|      11128|\n",
      "|2024-02-27|            1|             1|             1|           1|   51722.73|        6332|       6274|\n",
      "|2024-03-01|            1|             1|             1|           1|   89858.79|        2050|      43292|\n",
      "|2024-03-07|            1|             1|             1|           1|   48988.50|        3695|      23683|\n",
      "|2024-03-08|            1|             1|             1|           2|  141450.48|       16184|      29560|\n",
      "|2024-03-18|            1|             1|             1|           1|   14830.46|        8586|      46322|\n",
      "|2024-03-25|            1|             1|             1|           2|  123003.78|       12082|      45588|\n",
      "|2024-03-27|            1|             1|             1|           1|    7685.52|        2438|      31973|\n",
      "|2024-04-03|            1|             1|             1|           2|  133500.44|       14174|      67730|\n",
      "|2024-04-06|            1|             1|             1|           2|  258337.88|       29066|      37262|\n",
      "|2024-04-10|            1|             1|             1|           1|   54878.81|        7860|       6247|\n",
      "|2024-04-16|            1|             1|             1|           1|   38328.28|        9654|      41701|\n",
      "|2024-04-18|            1|             1|             1|           2|  107589.02|        5222|      64820|\n",
      "+----------+-------------+--------------+--------------+------------+-----------+------------+-----------+\n",
      "only showing top 20 rows\n",
      "\n"
     ]
    }
   ],
   "source": [
    "final_df_agg.show()"
   ]
  },
  {
   "cell_type": "code",
   "execution_count": 106,
   "id": "14472dee-d975-48c5-b3a1-157760e432ce",
   "metadata": {},
   "outputs": [],
   "source": [
    "final_df_agg2 = (\n",
    "    final_df\n",
    "    .groupBy('dt')\n",
    "    .agg(\n",
    "        F.countDistinct('visitid').alias('unique_visits'),\n",
    "        F.countDistinct('clientid').alias('unique_clients'),\n",
    "        F.countDistinct('submit_id').alias('unique_submits'),\n",
    "        F.countDistinct('deal_id').alias('unique_deals'),\n",
    "        F.sum('costs').alias('total_costs'),\n",
    "        F.sum('clicks').alias('total_clicks'),\n",
    "        F.sum('views').alias('total_views')\n",
    "    )\n",
    "    .sort('dt')\n",
    ")"
   ]
  },
  {
   "cell_type": "code",
   "execution_count": 107,
   "id": "b6f2c2ec-308d-4d0a-9547-d63967aa71b6",
   "metadata": {},
   "outputs": [
    {
     "name": "stdout",
     "output_type": "stream",
     "text": [
      "+----------+-------------+--------------+--------------+------------+-----------+------------+-----------+\n",
      "|        dt|unique_visits|unique_clients|unique_submits|unique_deals|total_costs|total_clicks|total_views|\n",
      "+----------+-------------+--------------+--------------+------------+-----------+------------+-----------+\n",
      "|2024-01-01|            5|             5|             1|           1|  143063.95|       13660|     125853|\n",
      "|2024-01-02|            4|             4|             2|           0|  120594.77|       21639|      75900|\n",
      "|2024-01-03|            5|             5|             3|           3|   28065.32|        3545|       5777|\n",
      "|2024-01-04|           10|            10|             2|           1|   31124.92|        4816|      35505|\n",
      "|2024-01-05|           10|            10|             4|           2|  240127.71|       27834|     149946|\n",
      "|2024-01-06|            9|             9|             2|           1|  240600.89|       15072|      68084|\n",
      "|2024-01-07|            7|             7|             4|           3|    9292.57|        9749|      15887|\n",
      "|2024-01-08|            8|             8|             4|           3|   57122.22|        1702|      13579|\n",
      "|2024-01-09|            4|             4|             2|           0|       null|        null|       null|\n",
      "|2024-01-10|            4|             4|             2|           0|   60144.54|        9846|      17491|\n",
      "|2024-01-11|           10|            10|             3|           2|  119149.67|       16262|      97291|\n",
      "|2024-01-12|            2|             2|             0|           0|       null|        null|       null|\n",
      "|2024-01-13|            3|             3|             1|           1|       null|        null|       null|\n",
      "|2024-01-14|            4|             4|             2|           3|       null|        null|       null|\n",
      "|2024-01-15|            8|             8|             1|           0|   36758.54|        4693|      33687|\n",
      "|2024-01-16|            9|             9|             2|           1|  109924.18|       14586|      31470|\n",
      "|2024-01-17|            7|             7|             0|           0|   90551.61|       21095|      84762|\n",
      "|2024-01-18|            8|             8|             2|           1|   59706.45|        7894|      15250|\n",
      "|2024-01-19|            3|             3|             0|           0|       null|        null|       null|\n",
      "|2024-01-20|            3|             3|             0|           0|   40598.24|        6534|      20445|\n",
      "+----------+-------------+--------------+--------------+------------+-----------+------------+-----------+\n",
      "only showing top 20 rows\n",
      "\n"
     ]
    }
   ],
   "source": [
    "final_df_agg2.show()"
   ]
  },
  {
   "cell_type": "code",
   "execution_count": 97,
   "id": "54b923b4-69d8-4849-95c8-a03584aa8f9d",
   "metadata": {},
   "outputs": [
    {
     "name": "stdout",
     "output_type": "stream",
     "text": [
      "-RECORD 0----------------------------------------------------\n",
      " dt             | 2024-05-14                                 \n",
      " visitid        | 926827                                     \n",
      " clientID       | 176                                        \n",
      " URL            | https://our-cool-website.com/edit          \n",
      " duration       | 99                                         \n",
      " source         | ad                                         \n",
      " UTMCampaign    | quarter_ecofriendly_kitchen_show_20240530  \n",
      " event_type     | submit                                     \n",
      " event_id       | 9985                                       \n",
      " submit_id      | 9985                                       \n",
      " name           | John                                       \n",
      " phone          | 79438904462                                \n",
      " phone_plus     | +79438904462                               \n",
      " phone_md5      | cd1e72755dc543307906bf638ba3dbdf           \n",
      " phone_plus_md5 | 6351238b50bede3e93763bd73db191aa           \n",
      " deal_id        | 670                                        \n",
      " deal_date      | 2024-06-20                                 \n",
      " fio            | Charles Ortiz                              \n",
      " phone          | 79438904462                                \n",
      " email          | baileyfelicia@example.org                  \n",
      " address        | 331 Erin Highway, Port Sarahfort, PA 02581 \n",
      " campaign_id    | 65                                         \n",
      " campaign_name  | quarter_ecofriendly_kitchen_show_20240530  \n",
      " date           | 2024-05-14                                 \n",
      " campaign_id    | 65                                         \n",
      " costs          | 91301.54                                   \n",
      " clicks         | 6924                                       \n",
      " views          | 31832                                      \n",
      "only showing top 1 row\n",
      "\n"
     ]
    }
   ],
   "source": [
    "final_df.show(1, False, True)"
   ]
  },
  {
   "cell_type": "markdown",
   "id": "811d13f5",
   "metadata": {},
   "source": [
    "## Освобождаем ресурсы, останавливаем Spark-сессию"
   ]
  },
  {
   "cell_type": "code",
   "execution_count": 164,
   "id": "1af657f2",
   "metadata": {},
   "outputs": [
    {
     "data": {
      "text/plain": [
       "DataFrame[dt: string, visitid: int, clientID: int, URL: string, duration: int, source: string, UTMCampaign: string, event_type: string, event_id: int, submit_id: bigint, name: string, phone: string, phone_plus: string, phone_md5: string, phone_plus_md5: string, deal_id: bigint, deal_date: string, fio: string, phone: string, email: string, address: string, campaign_id: int, campaign_name: string, date: string, campaign_id: int, costs: decimal(19,2), clicks: bigint, views: bigint]"
      ]
     },
     "execution_count": 164,
     "metadata": {},
     "output_type": "execute_result"
    }
   ],
   "source": [
    "final_df.unpersist()"
   ]
  },
  {
   "cell_type": "code",
   "execution_count": null,
   "id": "0ad473fe",
   "metadata": {},
   "outputs": [],
   "source": [
    "spark.stop()"
   ]
  },
  {
   "cell_type": "code",
   "execution_count": null,
   "id": "79fde40e-1f64-444d-8442-7fb32bff4bc7",
   "metadata": {},
   "outputs": [],
   "source": []
  }
 ],
 "metadata": {
  "kernelspec": {
   "display_name": "Python 3 (ipykernel)",
   "language": "python",
   "name": "python3"
  },
  "language_info": {
   "codemirror_mode": {
    "name": "ipython",
    "version": 3
   },
   "file_extension": ".py",
   "mimetype": "text/x-python",
   "name": "python",
   "nbconvert_exporter": "python",
   "pygments_lexer": "ipython3",
   "version": "3.12.7"
  }
 },
 "nbformat": 4,
 "nbformat_minor": 5
}
